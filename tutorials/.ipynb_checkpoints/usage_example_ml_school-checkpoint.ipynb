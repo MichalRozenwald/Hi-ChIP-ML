{
 "cells": [
  {
   "cell_type": "code",
   "execution_count": null,
   "metadata": {},
   "outputs": [],
   "source": []
  },
  {
   "cell_type": "code",
   "execution_count": 1,
   "metadata": {},
   "outputs": [
    {
     "name": "stderr",
     "output_type": "stream",
     "text": [
      "Using TensorFlow backend.\n"
     ]
    },
    {
     "name": "stdout",
     "output_type": "stream",
     "text": [
      "/Users/michal/diploma/Hi-ChIP-ML/tutorials\r\n"
     ]
    }
   ],
   "source": [
    "from hi_chip_ml_functions import *"
   ]
  },
  {
   "cell_type": "code",
   "execution_count": null,
   "metadata": {},
   "outputs": [],
   "source": []
  },
  {
   "cell_type": "code",
   "execution_count": null,
   "metadata": {},
   "outputs": [
    {
     "name": "stdout",
     "output_type": "stream",
     "text": [
      "CPU times: user 4 µs, sys: 8 µs, total: 12 µs\n",
      "Wall time: 14.1 µs\n",
      "data.shape =  (17850, 23)\n",
      "column names = ['is_s2' 'is_kc' 'is_bg' 'chrN' 'start_coord' 'Chriz' 'CTCF' 'Su(Hw)'\n",
      " 'BEAF-32' 'CP190' 'GAF' 'H3K4me1' 'H3K4me2' 'H3K4me3' 'H3K9me2' 'H3K9me3'\n",
      " 'H3K27ac' 'H3K27me1' 'H3K27me3' 'H3K36me1' 'H3K36me3' 'H4K16ac'\n",
      " 'RNA-polymerase-II']\n",
      "Using features bioset: ['Chriz', 'CTCF', 'H3K27ac', 'H3K27me3', 'Su(Hw)', 'is_s2', 'is_kc', 'is_bg', 'chrN', 'start_coord']\n",
      "Using cell line: is_s2\n",
      "Scaling of the features: Index(['Chriz', 'CTCF', 'H3K27ac', 'H3K27me3', 'Su(Hw)'], dtype='object')\n",
      "Using chromosome One Hot Encoding: ['chr2L' 'chr2R' 'chr3L' 'chr3R' 'chrX']\n",
      "proccessed data.shape = (5950, 11)\n"
     ]
    }
   ],
   "source": [
    "%time\n",
    "\n",
    "data_csv = \"_example_results_5_features_bioset_10_exps_23_08_20.csv\"\n",
    "\n",
    "num_experements = 1\n",
    "\n",
    "cell_line = 'is_s2' #  'all' #  'is_bg' # 'all' # 'is_s2' # cell_line one of: 'is_s2', 'is_kc', 'is_bg',  or 'all'\n",
    "\n",
    "bioset = None  # bioset: defines the biological features to use. \n",
    "               #  If bioset is None, use all availible features\n",
    "bioset = [\n",
    "    'Chriz',\n",
    "    'CTCF',\n",
    "    'H3K27ac',\n",
    "    'H3K27me3',\n",
    "    'Su(Hw)',\n",
    "    'is_s2', 'is_kc', 'is_bg', \n",
    "    'chrN', \n",
    "    'start_coord',\n",
    "]\n",
    "\n",
    "\n",
    "data_path_18features = '../data/epigenetics/s2_kc_bg_scaled_18_features.csv'\n",
    "data_path = data_path_18features\n",
    "\n",
    "\n",
    "target_path = \"../data/target/s2_kc_bg_clean_gamma_2901.csv\"  # \"../data/epigenetics/s2_kc_bg_clean_gamma.csv\"\n",
    "index_col = 0\n",
    "random_state = 16 # None  # Shuffle the data splittings\n",
    "batch_size = 60 \n",
    "sequenc_len_list =  [6]\n",
    "num_lstm_units = 64 \n",
    "n_epochs_max = 364 \n",
    "num_folds = 5\n",
    "file_path = \"./exps\" + data_csv\n",
    "use_chr_onehotenc = True\n",
    "use_coord_scale = True\n",
    "\n",
    "eval_models_df_1_10x_5f, eval_models_df_drop_10x_5f, eval_models_df_together_10x_5f, \\\n",
    "            mean_together_10x_5f, std_together_10x_5f, feature_score_1, feature_score_drop, \\\n",
    "            data_scaled_clean, target_clean, = main_analysis(data_path,  \n",
    "                                                       cell_line, \n",
    "                                                       bioset, \n",
    "                                                       num_experements,\n",
    "                                                       sequenc_len_list = [6], \n",
    "                                                       num_lstm_units = 6,\n",
    "                                                       num_folds = num_folds,\n",
    "                                                       batch_size = batch_size,\n",
    "                                                       do_only_1_feature_exps = False, \n",
    "                                                       do_drop_1_feature_exps = False,\n",
    "                                                       do_all_together = True,\n",
    "                                                       use_chr_onehotenc = use_chr_onehotenc,\n",
    "                                                       use_coord_scale=use_coord_scale,\n",
    "                                                       verbose=True)\n"
   ]
  },
  {
   "cell_type": "code",
   "execution_count": null,
   "metadata": {},
   "outputs": [],
   "source": []
  },
  {
   "cell_type": "code",
   "execution_count": null,
   "metadata": {},
   "outputs": [],
   "source": []
  },
  {
   "cell_type": "code",
   "execution_count": null,
   "metadata": {},
   "outputs": [],
   "source": []
  },
  {
   "cell_type": "code",
   "execution_count": null,
   "metadata": {},
   "outputs": [],
   "source": []
  },
  {
   "cell_type": "code",
   "execution_count": 3,
   "metadata": {
    "scrolled": true
   },
   "outputs": [
    {
     "ename": "TypeError",
     "evalue": "main_analysis() got multiple values for argument 'sequenc_len_list'",
     "output_type": "error",
     "traceback": [
      "\u001b[0;31m---------------------------------------------------------------------------\u001b[0m",
      "\u001b[0;31mTypeError\u001b[0m                                 Traceback (most recent call last)",
      "\u001b[0;32m<ipython-input-3-29fe5c6defca>\u001b[0m in \u001b[0;36m<module>\u001b[0;34m\u001b[0m\n\u001b[1;32m     62\u001b[0m                                                        \u001b[0muse_chr_onehotenc\u001b[0m \u001b[0;34m=\u001b[0m \u001b[0muse_chr_onehotenc\u001b[0m\u001b[0;34m,\u001b[0m\u001b[0;34m\u001b[0m\u001b[0;34m\u001b[0m\u001b[0m\n\u001b[1;32m     63\u001b[0m                                                        \u001b[0muse_coord_scale\u001b[0m\u001b[0;34m=\u001b[0m\u001b[0muse_coord_scale\u001b[0m\u001b[0;34m,\u001b[0m\u001b[0;34m\u001b[0m\u001b[0;34m\u001b[0m\u001b[0m\n\u001b[0;32m---> 64\u001b[0;31m                                                        verbose=True)\n\u001b[0m\u001b[1;32m     65\u001b[0m \u001b[0;34m\u001b[0m\u001b[0m\n\u001b[1;32m     66\u001b[0m \u001b[0meval_models_df_together_10cv_18f_dr\u001b[0m\u001b[0;34m\u001b[0m\u001b[0;34m\u001b[0m\u001b[0m\n",
      "\u001b[0;31mTypeError\u001b[0m: main_analysis() got multiple values for argument 'sequenc_len_list'"
     ]
    }
   ],
   "source": [
    "data_csv = \"_s2_18_bioset_5_exps_10cv_drops_16_05_20.csv\"\n",
    "\n",
    "num_experements = 5\n",
    "\n",
    "cell_line =  'is_s2'  #  'is_s2' #  'is_bg' # 'all' # 'is_s2' # cell_line one of: 'is_s2', 'is_kc', 'is_bg',  or 'all'\n",
    "\n",
    "\n",
    "bioset = None  # bioset: defines the biological features to use. \n",
    "               #  If bioset is None, use all availible features\n",
    "# bioset = ['Chriz', 'CTCF', 'Su(Hw)', 'H3K27me3', 'H3K27ac',\n",
    "#          'is_s2', 'is_kc', 'is_bg', \n",
    "#          'chrN', 'start_coord']\n",
    "\n",
    "# bioset = [ \n",
    "#     'H3K4me2', \n",
    "#     'ISWI',\n",
    "#     'Chriz',\n",
    "#     'WDS', \n",
    "#     'MRG15',\n",
    "#     'H3K79me3', \n",
    "#     'RNA-polymerase-II',\n",
    "#     'H1', \n",
    "#     'H3K27me3',\n",
    "#     'is_s2', 'is_kc', 'is_bg', \n",
    "#     'chrN', \n",
    "#     'start_coord',\n",
    "#   ]\n",
    "\n",
    "\n",
    "# data_features_path   = '../../data/epigenetics/s2_kc_bg_scaled_18_features.csv'\n",
    "data_path_18features = '../../data/epigenetics/s2_kc_bg_scaled_18_features.csv'\n",
    "data_path_35features = '../../data/epigenetics/s2_kc_bg_scaled_34_overlap_features_2901.csv'\n",
    "data_path = data_path_18features\n",
    "\n",
    "target_path = \"../../data/target/s2_kc_bg_clean_gamma_2901.csv\"\n",
    "index_col = 0\n",
    "\n",
    "random_state = 16 # None  # Shuffle the data splittings\n",
    "batch_size = 60 \n",
    "sequenc_len_list =  [6]\n",
    "num_lstm_units = 64 \n",
    "n_epochs_max = 364 \n",
    "num_folds = 10\n",
    "file_path = \"./exps\" + data_csv\n",
    "use_chr_onehotenc = True\n",
    "use_coord_scale = True\n",
    "\n",
    "eval_models_df_1_10x_18f, eval_models_df_drop_10x_18f, eval_models_df_together_10cv_18f_dr, \\\n",
    "            mean_together_10x_5f, std_together_10x_5f, feature_score_1, feature_score_drop, \\\n",
    "            data_scaled_clean, target_clean, = main_analysis(data_path,  \n",
    "                                                             target_path,\n",
    "                                                       cell_line, \n",
    "                                                       bioset, \n",
    "                                                       num_experements,\n",
    "                                                       sequenc_len_list = [6], \n",
    "                                                       num_lstm_units = 6,\n",
    "                                                       num_folds = num_folds,\n",
    "                                                       batch_size = batch_size,\n",
    "                                                       do_only_1_feature_exps = True, \n",
    "                                                       do_drop_1_feature_exps = True,\n",
    "                                                       do_all_together = True,\n",
    "                                                       use_chr_onehotenc = use_chr_onehotenc,\n",
    "                                                       use_coord_scale=use_coord_scale,\n",
    "                                                       verbose=True)\n",
    "\n",
    "eval_models_df_together_10cv_18f_dr"
   ]
  },
  {
   "cell_type": "code",
   "execution_count": null,
   "metadata": {},
   "outputs": [],
   "source": []
  },
  {
   "cell_type": "code",
   "execution_count": null,
   "metadata": {},
   "outputs": [],
   "source": []
  },
  {
   "cell_type": "code",
   "execution_count": null,
   "metadata": {},
   "outputs": [],
   "source": []
  }
 ],
 "metadata": {
  "kernelspec": {
   "display_name": "Python 3",
   "language": "python",
   "name": "python3"
  },
  "language_info": {
   "codemirror_mode": {
    "name": "ipython",
    "version": 3
   },
   "file_extension": ".py",
   "mimetype": "text/x-python",
   "name": "python",
   "nbconvert_exporter": "python",
   "pygments_lexer": "ipython3",
   "version": "3.7.2"
  }
 },
 "nbformat": 4,
 "nbformat_minor": 2
}
